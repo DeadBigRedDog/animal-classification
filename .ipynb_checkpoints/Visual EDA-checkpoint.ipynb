{
 "cells": [
  {
   "cell_type": "code",
   "execution_count": 13,
   "metadata": {},
   "outputs": [
    {
     "data": {
      "text/html": [
       "<style>.container { width:95% !important; }</style>"
      ],
      "text/plain": [
       "<IPython.core.display.HTML object>"
      ]
     },
     "metadata": {},
     "output_type": "display_data"
    }
   ],
   "source": [
    "import os\n",
    "import sys \n",
    "from IPython.core.display import display, HTML\n",
    "display(HTML(\"<style>.container { width:95% !important; }</style>\"))\n",
    "#https://github.com/PAIR-code/facets/tree/master/facets_atlasmaker\n",
    "\n"
   ]
  },
  {
   "cell_type": "code",
   "execution_count": 14,
   "metadata": {},
   "outputs": [
    {
     "name": "stdout",
     "output_type": "stream",
     "text": [
      "Cloning into 'facets'...\n",
      "remote: Enumerating objects: 47, done.\u001b[K\n",
      "remote: Counting objects: 100% (47/47), done.\u001b[K\n",
      "remote: Compressing objects: 100% (29/29), done.\u001b[K\n",
      "remote: Total 1361 (delta 18), reused 47 (delta 18), pack-reused 1314\u001b[K\n",
      "Receiving objects: 100% (1361/1361), 21.32 MiB | 854.00 KiB/s, done.\n",
      "Resolving deltas: 100% (835/835), done.\n"
     ]
    }
   ],
   "source": [
    "!git clone https://github.com/pair-code/facets.git"
   ]
  },
  {
   "cell_type": "code",
   "execution_count": 15,
   "metadata": {},
   "outputs": [],
   "source": [
    "sys.path.insert(0, '/content/facets/facets_overview/python/')"
   ]
  },
  {
   "cell_type": "code",
   "execution_count": 22,
   "metadata": {},
   "outputs": [],
   "source": [
    "atlas_url = '/Users/cliff/Source/facets/facets_atlasmaker/outputs/spriteatlas.png'\n",
    "meta_data_url = '/Users/cliff/Source/facets/facets_atlasmaker/outputs/manifest.json'"
   ]
  },
  {
   "cell_type": "code",
   "execution_count": 26,
   "metadata": {
    "scrolled": true
   },
   "outputs": [
    {
     "name": "stdout",
     "output_type": "stream",
     "text": [
      "{\"image_name\": \"300px-ARD-Hauptstadtstudio%2C_Berlin-Mitte%2C_Fassade%2C_170117%2C_ako.jpg\", \"source_image\": \"https://upload.wikimedia.org/wikipedia/commons/thumb/3/33/ARD-Hauptstadtstudio%2C_Berlin-Mitte%2C_Fassade%2C_170117%2C_ako.jpg/300px-ARD-Hauptstadtstudio%2C_Berlin-Mitte%2C_Fassade%2C_170117%2C_ako.jpg\", \"offset_x\": 0, \"offset_y\": 0}\n",
      "{\"image_name\": \"300px-Marmot-edit1.jpg\", \"source_image\": \"https://upload.wikimedia.org/wikipedia/commons/thumb/3/3b/Marmot-edit1.jpg/300px-Marmot-edit1.jpg\", \"offset_x\": 50, \"offset_y\": 0}\n",
      "{\"image_name\": \"300px-Moscow_Gorky_Park_Pushkinsky_Bridge_08-2016_img3.jpg\", \"source_image\": \"https://upload.wikimedia.org/wikipedia/commons/thumb/1/19/Moscow_Gorky_Park_Pushkinsky_Bridge_08-2016_img3.jpg/300px-Moscow_Gorky_Park_Pushkinsky_Bridge_08-2016_img3.jpg\", \"offset_x\": 100, \"offset_y\": 0}\n",
      "{\"image_name\": \"300px-Bubo_bubo_sibiricus_-_01.JPG\", \"source_image\": \"https://upload.wikimedia.org/wikipedia/commons/thumb/5/56/Bubo_bubo_sibiricus_-_01.JPG/300px-Bubo_bubo_sibiricus_-_01.JPG\", \"offset_x\": 150, \"offset_y\": 0}\n",
      "{\"image_name\": \"300px-M%C3%BCnster%2C_LVM_--_2017_--_6351-7.jpg\", \"source_image\": \"https://upload.wikimedia.org/wikipedia/commons/thumb/d/d1/M%C3%BCnster%2C_LVM_--_2017_--_6351-7.jpg/300px-M%C3%BCnster%2C_LVM_--_2017_--_6351-7.jpg\", \"offset_x\": 0, \"offset_y\": 50}\n",
      "{\"image_name\": \"300px-2013_Porsche_911_Carrera_4S_%28991%29_%289626546987%29.jpg\", \"source_image\": \"https://upload.wikimedia.org/wikipedia/commons/thumb/c/c6/2013_Porsche_911_Carrera_4S_%28991%29_%289626546987%29.jpg/300px-2013_Porsche_911_Carrera_4S_%28991%29_%289626546987%29.jpg\", \"offset_x\": 50, \"offset_y\": 50}\n",
      "{\"image_name\": \"300px-NSB_Di_4_Saltfjell.jpg\", \"source_image\": \"https://upload.wikimedia.org/wikipedia/commons/thumb/a/aa/NSB_Di_4_Saltfjell.jpg/300px-NSB_Di_4_Saltfjell.jpg\", \"offset_x\": 100, \"offset_y\": 50}\n",
      "{\"image_name\": \"300px-Thai_Airways_International_Boeing_747-4D7_HS-TGP_MUC_2015_03.jpg\", \"source_image\": \"https://upload.wikimedia.org/wikipedia/commons/thumb/1/1b/Thai_Airways_International_Boeing_747-4D7_HS-TGP_MUC_2015_03.jpg/300px-Thai_Airways_International_Boeing_747-4D7_HS-TGP_MUC_2015_03.jpg\", \"offset_x\": 150, \"offset_y\": 50}\n",
      "{\"image_name\": \"300px-James_Webb_Space_Telescope_Mirrors_Will_Piece_Together_Cosmic_Puzzles_%2830108124923%29.jpg\", \"source_image\": \"https://upload.wikimedia.org/wikipedia/commons/thumb/6/60/James_Webb_Space_Telescope_Mirrors_Will_Piece_Together_Cosmic_Puzzles_%2830108124923%29.jpg/300px-James_Webb_Space_Telescope_Mirrors_Will_Piece_Together_Cosmic_Puzzles_%2830108124923%29.jpg\", \"offset_x\": 0, \"offset_y\": 100}\n",
      "{\"image_name\": \"300px-Shakedown_2008_Figure_1a.jpg\", \"source_image\": \"https://upload.wikimedia.org/wikipedia/commons/thumb/4/4f/Shakedown_2008_Figure_1a.jpg/300px-Shakedown_2008_Figure_1a.jpg\", \"offset_x\": 50, \"offset_y\": 100}\n",
      "{\"image_name\": \"300px-Groomed_skirun_from_Seceda_Val_Gardena.jpg\", \"source_image\": \"https://upload.wikimedia.org/wikipedia/commons/thumb/d/da/Groomed_skirun_from_Seceda_Val_Gardena.jpg/300px-Groomed_skirun_from_Seceda_Val_Gardena.jpg\", \"offset_x\": 100, \"offset_y\": 100}\n",
      "{\"image_name\": \"300px-H-sovetskaa-11-5249.jpg\", \"source_image\": \"https://upload.wikimedia.org/wikipedia/commons/thumb/f/f9/H-sovetskaa-11-5249.jpg/300px-H-sovetskaa-11-5249.jpg\", \"offset_x\": 150, \"offset_y\": 100}\n",
      "{\"image_name\": \"300px-Small_red_damselflies_%28Ceriagrion_tenellum%29_mating_female_typica.jpg\", \"source_image\": \"https://upload.wikimedia.org/wikipedia/commons/thumb/5/59/Small_red_damselflies_%28Ceriagrion_tenellum%29_mating_female_typica.jpg/300px-Small_red_damselflies_%28Ceriagrion_tenellum%29_mating_female_typica.jpg\", \"offset_x\": 0, \"offset_y\": 150}\n",
      "{\"image_name\": \"300px-Ron-Zacapa-XO.jpg\", \"source_image\": \"https://upload.wikimedia.org/wikipedia/commons/thumb/7/76/Ron-Zacapa-XO.jpg/300px-Ron-Zacapa-XO.jpg\", \"offset_x\": 50, \"offset_y\": 150}\n",
      "{\"image_name\": \"300px-2015_Chinese_New_Year_Fashion_Show%2C_Sudirman_Street%2C_Yogyakarta%2C_2015-02-15_02.jpg\", \"source_image\": \"https://upload.wikimedia.org/wikipedia/commons/thumb/0/0a/2015_Chinese_New_Year_Fashion_Show%2C_Sudirman_Street%2C_Yogyakarta%2C_2015-02-15_02.jpg/300px-2015_Chinese_New_Year_Fashion_Show%2C_Sudirman_Street%2C_Yogyakarta%2C_2015-02-15_02.jpg\", \"offset_x\": 100, \"offset_y\": 150}\n",
      "{\"image_name\": \"300px-Canis_latrans_%28Yosemite%2C_2009%29.jpg\", \"source_image\": \"https://upload.wikimedia.org/wikipedia/commons/thumb/c/ce/Canis_latrans_%28Yosemite%2C_2009%29.jpg/300px-Canis_latrans_%28Yosemite%2C_2009%29.jpg\", \"offset_x\": 150, \"offset_y\": 150}\n",
      "\n"
     ]
    },
    {
     "data": {
      "text/html": [
       "<link rel=\"import\" href=\"https://raw.githubusercontent.com/PAIR-code/facets/master/facets-dist/facets-jupyter.html\">\n",
       "        <facets-dive \n",
       "            id=\"elem\" \n",
       "            height=\"750\"\n",
       "            cross-origin=\"anonymous\"\n",
       "            sprite-image-width=\"32\"\n",
       "            sprite-image-height=\"32\">\n",
       "        </facets-dive>\n",
       "        <script>\n",
       "          var data = {\"image_name\": \"300px-ARD-Hauptstadtstudio%2C_Berlin-Mitte%2C_Fassade%2C_170117%2C_ako.jpg\", \"source_image\": \"https://upload.wikimedia.org/wikipedia/commons/thumb/3/33/ARD-Hauptstadtstudio%2C_Berlin-Mitte%2C_Fassade%2C_170117%2C_ako.jpg/300px-ARD-Hauptstadtstudio%2C_Berlin-Mitte%2C_Fassade%2C_170117%2C_ako.jpg\", \"offset_x\": 0, \"offset_y\": 0}\n",
       "{\"image_name\": \"300px-Marmot-edit1.jpg\", \"source_image\": \"https://upload.wikimedia.org/wikipedia/commons/thumb/3/3b/Marmot-edit1.jpg/300px-Marmot-edit1.jpg\", \"offset_x\": 50, \"offset_y\": 0}\n",
       "{\"image_name\": \"300px-Moscow_Gorky_Park_Pushkinsky_Bridge_08-2016_img3.jpg\", \"source_image\": \"https://upload.wikimedia.org/wikipedia/commons/thumb/1/19/Moscow_Gorky_Park_Pushkinsky_Bridge_08-2016_img3.jpg/300px-Moscow_Gorky_Park_Pushkinsky_Bridge_08-2016_img3.jpg\", \"offset_x\": 100, \"offset_y\": 0}\n",
       "{\"image_name\": \"300px-Bubo_bubo_sibiricus_-_01.JPG\", \"source_image\": \"https://upload.wikimedia.org/wikipedia/commons/thumb/5/56/Bubo_bubo_sibiricus_-_01.JPG/300px-Bubo_bubo_sibiricus_-_01.JPG\", \"offset_x\": 150, \"offset_y\": 0}\n",
       "{\"image_name\": \"300px-M%C3%BCnster%2C_LVM_--_2017_--_6351-7.jpg\", \"source_image\": \"https://upload.wikimedia.org/wikipedia/commons/thumb/d/d1/M%C3%BCnster%2C_LVM_--_2017_--_6351-7.jpg/300px-M%C3%BCnster%2C_LVM_--_2017_--_6351-7.jpg\", \"offset_x\": 0, \"offset_y\": 50}\n",
       "{\"image_name\": \"300px-2013_Porsche_911_Carrera_4S_%28991%29_%289626546987%29.jpg\", \"source_image\": \"https://upload.wikimedia.org/wikipedia/commons/thumb/c/c6/2013_Porsche_911_Carrera_4S_%28991%29_%289626546987%29.jpg/300px-2013_Porsche_911_Carrera_4S_%28991%29_%289626546987%29.jpg\", \"offset_x\": 50, \"offset_y\": 50}\n",
       "{\"image_name\": \"300px-NSB_Di_4_Saltfjell.jpg\", \"source_image\": \"https://upload.wikimedia.org/wikipedia/commons/thumb/a/aa/NSB_Di_4_Saltfjell.jpg/300px-NSB_Di_4_Saltfjell.jpg\", \"offset_x\": 100, \"offset_y\": 50}\n",
       "{\"image_name\": \"300px-Thai_Airways_International_Boeing_747-4D7_HS-TGP_MUC_2015_03.jpg\", \"source_image\": \"https://upload.wikimedia.org/wikipedia/commons/thumb/1/1b/Thai_Airways_International_Boeing_747-4D7_HS-TGP_MUC_2015_03.jpg/300px-Thai_Airways_International_Boeing_747-4D7_HS-TGP_MUC_2015_03.jpg\", \"offset_x\": 150, \"offset_y\": 50}\n",
       "{\"image_name\": \"300px-James_Webb_Space_Telescope_Mirrors_Will_Piece_Together_Cosmic_Puzzles_%2830108124923%29.jpg\", \"source_image\": \"https://upload.wikimedia.org/wikipedia/commons/thumb/6/60/James_Webb_Space_Telescope_Mirrors_Will_Piece_Together_Cosmic_Puzzles_%2830108124923%29.jpg/300px-James_Webb_Space_Telescope_Mirrors_Will_Piece_Together_Cosmic_Puzzles_%2830108124923%29.jpg\", \"offset_x\": 0, \"offset_y\": 100}\n",
       "{\"image_name\": \"300px-Shakedown_2008_Figure_1a.jpg\", \"source_image\": \"https://upload.wikimedia.org/wikipedia/commons/thumb/4/4f/Shakedown_2008_Figure_1a.jpg/300px-Shakedown_2008_Figure_1a.jpg\", \"offset_x\": 50, \"offset_y\": 100}\n",
       "{\"image_name\": \"300px-Groomed_skirun_from_Seceda_Val_Gardena.jpg\", \"source_image\": \"https://upload.wikimedia.org/wikipedia/commons/thumb/d/da/Groomed_skirun_from_Seceda_Val_Gardena.jpg/300px-Groomed_skirun_from_Seceda_Val_Gardena.jpg\", \"offset_x\": 100, \"offset_y\": 100}\n",
       "{\"image_name\": \"300px-H-sovetskaa-11-5249.jpg\", \"source_image\": \"https://upload.wikimedia.org/wikipedia/commons/thumb/f/f9/H-sovetskaa-11-5249.jpg/300px-H-sovetskaa-11-5249.jpg\", \"offset_x\": 150, \"offset_y\": 100}\n",
       "{\"image_name\": \"300px-Small_red_damselflies_%28Ceriagrion_tenellum%29_mating_female_typica.jpg\", \"source_image\": \"https://upload.wikimedia.org/wikipedia/commons/thumb/5/59/Small_red_damselflies_%28Ceriagrion_tenellum%29_mating_female_typica.jpg/300px-Small_red_damselflies_%28Ceriagrion_tenellum%29_mating_female_typica.jpg\", \"offset_x\": 0, \"offset_y\": 150}\n",
       "{\"image_name\": \"300px-Ron-Zacapa-XO.jpg\", \"source_image\": \"https://upload.wikimedia.org/wikipedia/commons/thumb/7/76/Ron-Zacapa-XO.jpg/300px-Ron-Zacapa-XO.jpg\", \"offset_x\": 50, \"offset_y\": 150}\n",
       "{\"image_name\": \"300px-2015_Chinese_New_Year_Fashion_Show%2C_Sudirman_Street%2C_Yogyakarta%2C_2015-02-15_02.jpg\", \"source_image\": \"https://upload.wikimedia.org/wikipedia/commons/thumb/0/0a/2015_Chinese_New_Year_Fashion_Show%2C_Sudirman_Street%2C_Yogyakarta%2C_2015-02-15_02.jpg/300px-2015_Chinese_New_Year_Fashion_Show%2C_Sudirman_Street%2C_Yogyakarta%2C_2015-02-15_02.jpg\", \"offset_x\": 100, \"offset_y\": 150}\n",
       "{\"image_name\": \"300px-Canis_latrans_%28Yosemite%2C_2009%29.jpg\", \"source_image\": \"https://upload.wikimedia.org/wikipedia/commons/thumb/c/ce/Canis_latrans_%28Yosemite%2C_2009%29.jpg/300px-Canis_latrans_%28Yosemite%2C_2009%29.jpg\", \"offset_x\": 150, \"offset_y\": 150}\n",
       ";\n",
       "          var atlas_url = \"/Users/cliff/Source/facets/facets_atlasmaker/outputs/spriteatlas.png\";\n",
       "          document.querySelector(\"#elem\").data = data;\n",
       "          document.querySelector(\"#elem\").atlasUrl = atlas_url;\n",
       "        </script>"
      ],
      "text/plain": [
       "<IPython.core.display.HTML object>"
      ]
     },
     "metadata": {},
     "output_type": "display_data"
    }
   ],
   "source": [
    "# Display the Dive visualization for this data\n",
    "from IPython.core.display import display, HTML\n",
    "data = \"\"\n",
    "with open(meta_data_url, 'r') as file:\n",
    "    data = file.read()\n",
    "print(data)\n",
    "HTML_TEMPLATE = \"\"\"<link rel=\"import\" href=\"https://raw.githubusercontent.com/PAIR-code/facets/master/facets-dist/facets-jupyter.html\">\n",
    "        <facets-dive \n",
    "            id=\"elem\" \n",
    "            height=\"750\"\n",
    "            cross-origin=\"anonymous\"\n",
    "            sprite-image-width=\"32\"\n",
    "            sprite-image-height=\"32\">\n",
    "        </facets-dive>\n",
    "        <script>\n",
    "          var data = {jsonstr};\n",
    "          var atlas_url = \"{atlas_url}\";\n",
    "          document.querySelector(\"#elem\").data = data;\n",
    "          document.querySelector(\"#elem\").atlasUrl = atlas_url;\n",
    "        </script>\"\"\"\n",
    "html = HTML_TEMPLATE.format(jsonstr=data, atlas_url=atlas_url)\n",
    "display(HTML(html))"
   ]
  },
  {
   "cell_type": "code",
   "execution_count": null,
   "metadata": {},
   "outputs": [],
   "source": []
  }
 ],
 "metadata": {
  "kernelspec": {
   "display_name": "Python 3",
   "language": "python",
   "name": "python3"
  },
  "language_info": {
   "codemirror_mode": {
    "name": "ipython",
    "version": 3
   },
   "file_extension": ".py",
   "mimetype": "text/x-python",
   "name": "python",
   "nbconvert_exporter": "python",
   "pygments_lexer": "ipython3",
   "version": "3.6.8"
  }
 },
 "nbformat": 4,
 "nbformat_minor": 2
}
