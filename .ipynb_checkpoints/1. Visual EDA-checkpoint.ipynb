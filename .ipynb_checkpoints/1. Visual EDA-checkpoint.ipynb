{
 "cells": [
  {
   "cell_type": "code",
   "execution_count": 15,
   "metadata": {},
   "outputs": [],
   "source": [
    "import os,os.path\n",
    "import sys \n",
    "import fnmatch\n",
    "import pandas as pd\n",
    "import matplotlib.pyplot as plt\n",
    "import seaborn as sns #requires 0.9.0\n",
    "sns.set(color_codes=True)\n"
   ]
  },
  {
   "cell_type": "code",
   "execution_count": 18,
   "metadata": {},
   "outputs": [
    {
     "name": "stdout",
     "output_type": "stream",
     "text": [
      "{'cat': 10823, 'car': 5519, 'dog': 52793, 'pottedplant': 765, 'person': 10699, 'sheep': 1345, 'boat': 1648, 'chair': 2841, 'bus': 761, 'motorbike': 875, 'sofa': 2274, 'bird': 3746, 'aeroplane': 3195, 'tvmonitor': 1956, 'train': 2174, 'bicycle': 2080, 'horse': 2250, 'bottle': 3089, 'cow': 1369, 'diningtable': 402}\n",
      "Empty DataFrame\n",
      "Columns: [class, total]\n",
      "Index: []\n"
     ]
    }
   ],
   "source": [
    "IMAGE_PATH = 'data/tweaked_data/images/'\n",
    "cols = ['class','total']\n",
    "\n",
    "def get_immediate_subdirectories(a_dir):\n",
    "    return [name for name in os.listdir(a_dir)\n",
    "            if os.path.isdir(os.path.join(a_dir, name))]\n",
    "\n",
    "segment_directories = get_immediate_subdirectories(IMAGE_PATH)\n",
    "file_count = list()\n",
    "\n",
    "for directory in segment_directories:\n",
    "    file_count.append[directory,(fnmatch.filter(os.listdir(IMAGE_PATH+directory), '*.jpg'))]\n",
    "    \n",
    "print(file_count) \n",
    "df_class_count = pd.DataFrame.from_records(file_count,columns=cols,exclude=None,index=None)\n",
    "\n",
    "print(df_class_count.head())"
   ]
  },
  {
   "cell_type": "code",
   "execution_count": 17,
   "metadata": {},
   "outputs": [
    {
     "name": "stderr",
     "output_type": "stream",
     "text": [
      "/Users/cliff/anaconda3/lib/python3.6/site-packages/seaborn/distributions.py:198: RuntimeWarning: Mean of empty slice.\n",
      "  line, = ax.plot(a.mean(), 0)\n",
      "/Users/cliff/anaconda3/lib/python3.6/site-packages/numpy/core/_methods.py:80: RuntimeWarning: invalid value encountered in true_divide\n",
      "  ret = ret.dtype.type(ret / rcount)\n",
      "/Users/cliff/anaconda3/lib/python3.6/site-packages/numpy/lib/function_base.py:838: RuntimeWarning: invalid value encountered in true_divide\n",
      "  return n/db/n.sum(), bin_edges\n"
     ]
    },
    {
     "data": {
      "image/png": "[encoded data removed]",
      "text/plain": [
       "<Figure size 432x288 with 1 Axes>"
      ]
     },
     "metadata": {},
     "output_type": "display_data"
    }
   ],
   "source": [
    "sns.distplot(df_class_count);"
   ]
  },
  {
   "cell_type": "code",
   "execution_count": null,
   "metadata": {},
   "outputs": [],
   "source": []
  }
 ],
 "metadata": {
  "kernelspec": {
   "display_name": "Python 3",
   "language": "python",
   "name": "python3"
  },
  "language_info": {
   "codemirror_mode": {
    "name": "ipython",
    "version": 3
   },
   "file_extension": ".py",
   "mimetype": "text/x-python",
   "name": "python",
   "nbconvert_exporter": "python",
   "pygments_lexer": "ipython3",
   "version": "3.6.8"
  }
 },
 "nbformat": 4,
 "nbformat_minor": 2
}
